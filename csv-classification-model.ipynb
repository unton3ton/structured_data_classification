{
 "cells": [
  {
   "attachments": {},
   "cell_type": "markdown",
   "metadata": {},
   "source": [
    "Import pandas to read csv file"
   ]
  },
  {
   "cell_type": "code",
   "execution_count": 1,
   "metadata": {},
   "outputs": [],
   "source": [
    "# conda activate iWM\n",
    "import pandas as pd"
   ]
  },
  {
   "cell_type": "code",
   "execution_count": 2,
   "metadata": {},
   "outputs": [],
   "source": [
    "ds = pd.read_csv('subset_ceramics_v21032023.csv')"
   ]
  },
  {
   "attachments": {},
   "cell_type": "markdown",
   "metadata": {},
   "source": [
    "# Preprocess Data-set"
   ]
  },
  {
   "attachments": {},
   "cell_type": "markdown",
   "metadata": {},
   "source": [
    "Remove columns that are not of interest to the model "
   ]
  },
  {
   "cell_type": "code",
   "execution_count": 3,
   "metadata": {},
   "outputs": [],
   "source": [
    "ds_preprocessed = ds.drop(columns=['find_number', 'material_category', 'start_date',\n",
    "       'end_date', 'level_1_of_the_functional_classification',\n",
    "       'ceramics_rim_eve_estimated_vessel_equivalent',\n",
    "       'ceramics_base_eve_estimated_vessel_equivalent',\n",
    "       'ceramics_decoration_technique',\n",
    "       'ceramics_image_type', 'ceramics_mark'])"
   ]
  },
  {
   "attachments": {},
   "cell_type": "markdown",
   "metadata": {},
   "source": [
    "Remove rows where values are NaNs"
   ]
  },
  {
   "cell_type": "code",
   "execution_count": 4,
   "metadata": {},
   "outputs": [
    {
     "data": {
      "text/plain": [
       "material                                         0\n",
       "level_2_of_the_functional_classification         0\n",
       "ceramics_reconstructed_object_diameter_in_mm     0\n",
       "ceramics_reconstructed_object_height_in_mm       0\n",
       "ceramics_surface_treatment                      52\n",
       "dtype: int64"
      ]
     },
     "execution_count": 4,
     "metadata": {},
     "output_type": "execute_result"
    }
   ],
   "source": [
    "ds_preprocessed.isna().sum()"
   ]
  },
  {
   "cell_type": "code",
   "execution_count": 5,
   "metadata": {},
   "outputs": [
    {
     "data": {
      "text/plain": [
       "material                                        0\n",
       "level_2_of_the_functional_classification        0\n",
       "ceramics_reconstructed_object_diameter_in_mm    0\n",
       "ceramics_reconstructed_object_height_in_mm      0\n",
       "ceramics_surface_treatment                      0\n",
       "dtype: int64"
      ]
     },
     "execution_count": 5,
     "metadata": {},
     "output_type": "execute_result"
    }
   ],
   "source": [
    "ds_preprocessed = ds_preprocessed.dropna()\n",
    "ds_preprocessed.isna().sum()"
   ]
  },
  {
   "attachments": {},
   "cell_type": "markdown",
   "metadata": {},
   "source": [
    "Reduce data-set to a binary classification problem with only 'Consumption: drinking' and 'Food consumption: plate, dish, bowl' as categories."
   ]
  },
  {
   "cell_type": "code",
   "execution_count": 6,
   "metadata": {},
   "outputs": [
    {
     "data": {
      "text/plain": [
       "0       Food consumption: plate, dish, bowl\n",
       "1       Food consumption: plate, dish, bowl\n",
       "2                     Consumption: drinking\n",
       "3                     Consumption: drinking\n",
       "4                     Consumption: drinking\n",
       "                       ...                 \n",
       "3404    Food consumption: plate, dish, bowl\n",
       "3405    Food consumption: plate, dish, bowl\n",
       "3406    Food consumption: plate, dish, bowl\n",
       "3407    Food consumption: plate, dish, bowl\n",
       "3409    Food consumption: plate, dish, bowl\n",
       "Name: level_2_of_the_functional_classification, Length: 2972, dtype: category\n",
       "Categories (2, object): ['Consumption: drinking', 'Food consumption: plate, dish, bowl']"
      ]
     },
     "execution_count": 6,
     "metadata": {},
     "output_type": "execute_result"
    }
   ],
   "source": [
    "ds_preprocessed = ds_preprocessed.query(\"level_2_of_the_functional_classification == ['Consumption: drinking', 'Food consumption: plate, dish, bowl']\")  \n",
    "ds_preprocessed['level_2_of_the_functional_classification'] = ds_preprocessed['level_2_of_the_functional_classification'].astype('category')\n",
    "ds_preprocessed['level_2_of_the_functional_classification']"
   ]
  },
  {
   "attachments": {},
   "cell_type": "markdown",
   "metadata": {},
   "source": [
    "Create target one-hot vector"
   ]
  },
  {
   "cell_type": "code",
   "execution_count": 7,
   "metadata": {},
   "outputs": [
    {
     "data": {
      "text/plain": [
       "Consumption: drinking                   841\n",
       "Food consumption: plate, dish, bowl    2131\n",
       "dtype: int64"
      ]
     },
     "execution_count": 7,
     "metadata": {},
     "output_type": "execute_result"
    }
   ],
   "source": [
    "#Create target output\n",
    "target = pd.get_dummies(ds_preprocessed['level_2_of_the_functional_classification'])\n",
    "target.sum()"
   ]
  },
  {
   "attachments": {},
   "cell_type": "markdown",
   "metadata": {},
   "source": [
    "Convert 'material' and 'ceramics_surface_treatment' in to integer values for use as input to the machine learning model and extract the features."
   ]
  },
  {
   "cell_type": "code",
   "execution_count": 8,
   "metadata": {},
   "outputs": [],
   "source": [
    "ds_preprocessed['material_categorized'] = ds_preprocessed['material'].astype('category').cat.codes + 1\n",
    "ds_preprocessed['treatment_categorized'] = ds_preprocessed['ceramics_surface_treatment'].astype('category').cat.codes + 1"
   ]
  },
  {
   "cell_type": "code",
   "execution_count": 9,
   "metadata": {},
   "outputs": [
    {
     "data": {
      "text/html": [
       "<div>\n",
       "<style scoped>\n",
       "    .dataframe tbody tr th:only-of-type {\n",
       "        vertical-align: middle;\n",
       "    }\n",
       "\n",
       "    .dataframe tbody tr th {\n",
       "        vertical-align: top;\n",
       "    }\n",
       "\n",
       "    .dataframe thead th {\n",
       "        text-align: right;\n",
       "    }\n",
       "</style>\n",
       "<table border=\"1\" class=\"dataframe\">\n",
       "  <thead>\n",
       "    <tr style=\"text-align: right;\">\n",
       "      <th></th>\n",
       "      <th>ceramics_reconstructed_object_diameter_in_mm</th>\n",
       "      <th>ceramics_reconstructed_object_height_in_mm</th>\n",
       "      <th>material_categorized</th>\n",
       "      <th>treatment_categorized</th>\n",
       "    </tr>\n",
       "  </thead>\n",
       "  <tbody>\n",
       "    <tr>\n",
       "      <th>0</th>\n",
       "      <td>270</td>\n",
       "      <td>60</td>\n",
       "      <td>32</td>\n",
       "      <td>9</td>\n",
       "    </tr>\n",
       "    <tr>\n",
       "      <th>1</th>\n",
       "      <td>260</td>\n",
       "      <td>38</td>\n",
       "      <td>29</td>\n",
       "      <td>5</td>\n",
       "    </tr>\n",
       "    <tr>\n",
       "      <th>2</th>\n",
       "      <td>100</td>\n",
       "      <td>25</td>\n",
       "      <td>9</td>\n",
       "      <td>8</td>\n",
       "    </tr>\n",
       "    <tr>\n",
       "      <th>3</th>\n",
       "      <td>120</td>\n",
       "      <td>150</td>\n",
       "      <td>10</td>\n",
       "      <td>19</td>\n",
       "    </tr>\n",
       "    <tr>\n",
       "      <th>4</th>\n",
       "      <td>110</td>\n",
       "      <td>40</td>\n",
       "      <td>15</td>\n",
       "      <td>25</td>\n",
       "    </tr>\n",
       "    <tr>\n",
       "      <th>...</th>\n",
       "      <td>...</td>\n",
       "      <td>...</td>\n",
       "      <td>...</td>\n",
       "      <td>...</td>\n",
       "    </tr>\n",
       "    <tr>\n",
       "      <th>3404</th>\n",
       "      <td>140</td>\n",
       "      <td>20</td>\n",
       "      <td>19</td>\n",
       "      <td>1</td>\n",
       "    </tr>\n",
       "    <tr>\n",
       "      <th>3405</th>\n",
       "      <td>120</td>\n",
       "      <td>25</td>\n",
       "      <td>32</td>\n",
       "      <td>9</td>\n",
       "    </tr>\n",
       "    <tr>\n",
       "      <th>3406</th>\n",
       "      <td>260</td>\n",
       "      <td>50</td>\n",
       "      <td>28</td>\n",
       "      <td>6</td>\n",
       "    </tr>\n",
       "    <tr>\n",
       "      <th>3407</th>\n",
       "      <td>240</td>\n",
       "      <td>28</td>\n",
       "      <td>3</td>\n",
       "      <td>25</td>\n",
       "    </tr>\n",
       "    <tr>\n",
       "      <th>3409</th>\n",
       "      <td>220</td>\n",
       "      <td>42</td>\n",
       "      <td>19</td>\n",
       "      <td>1</td>\n",
       "    </tr>\n",
       "  </tbody>\n",
       "</table>\n",
       "<p>2972 rows × 4 columns</p>\n",
       "</div>"
      ],
      "text/plain": [
       "      ceramics_reconstructed_object_diameter_in_mm  \\\n",
       "0                                              270   \n",
       "1                                              260   \n",
       "2                                              100   \n",
       "3                                              120   \n",
       "4                                              110   \n",
       "...                                            ...   \n",
       "3404                                           140   \n",
       "3405                                           120   \n",
       "3406                                           260   \n",
       "3407                                           240   \n",
       "3409                                           220   \n",
       "\n",
       "      ceramics_reconstructed_object_height_in_mm  material_categorized  \\\n",
       "0                                             60                    32   \n",
       "1                                             38                    29   \n",
       "2                                             25                     9   \n",
       "3                                            150                    10   \n",
       "4                                             40                    15   \n",
       "...                                          ...                   ...   \n",
       "3404                                          20                    19   \n",
       "3405                                          25                    32   \n",
       "3406                                          50                    28   \n",
       "3407                                          28                     3   \n",
       "3409                                          42                    19   \n",
       "\n",
       "      treatment_categorized  \n",
       "0                         9  \n",
       "1                         5  \n",
       "2                         8  \n",
       "3                        19  \n",
       "4                        25  \n",
       "...                     ...  \n",
       "3404                      1  \n",
       "3405                      9  \n",
       "3406                      6  \n",
       "3407                     25  \n",
       "3409                      1  \n",
       "\n",
       "[2972 rows x 4 columns]"
      ]
     },
     "execution_count": 9,
     "metadata": {},
     "output_type": "execute_result"
    }
   ],
   "source": [
    "ds_features = ds_preprocessed.drop(columns=['level_2_of_the_functional_classification', 'material', 'ceramics_surface_treatment'])\n",
    "ds_features"
   ]
  },
  {
   "attachments": {},
   "cell_type": "markdown",
   "metadata": {},
   "source": [
    "Split data-set into train and test data-sets"
   ]
  },
  {
   "cell_type": "code",
   "execution_count": 10,
   "metadata": {},
   "outputs": [],
   "source": [
    "from sklearn.model_selection import train_test_split\n",
    "\n",
    "X_train, X_test, y_train, y_test = train_test_split(ds_features, target,test_size=0.2, random_state=0, shuffle=True, stratify=target)"
   ]
  },
  {
   "cell_type": "code",
   "execution_count": 11,
   "metadata": {},
   "outputs": [
    {
     "data": {
      "text/plain": [
       "Consumption: drinking                   673\n",
       "Food consumption: plate, dish, bowl    1704\n",
       "dtype: int64"
      ]
     },
     "execution_count": 11,
     "metadata": {},
     "output_type": "execute_result"
    }
   ],
   "source": [
    "y_train.sum()"
   ]
  },
  {
   "attachments": {},
   "cell_type": "markdown",
   "metadata": {},
   "source": [
    "# Create NN model for classification"
   ]
  },
  {
   "cell_type": "code",
   "execution_count": 12,
   "metadata": {},
   "outputs": [
    {
     "name": "stdout",
     "output_type": "stream",
     "text": [
      "WARNING:tensorflow:From C:\\Users\\Peter\\AppData\\Local\\miniconda3\\Lib\\site-packages\\keras\\src\\losses.py:2976: The name tf.losses.sparse_softmax_cross_entropy is deprecated. Please use tf.compat.v1.losses.sparse_softmax_cross_entropy instead.\n",
      "\n"
     ]
    }
   ],
   "source": [
    "from tensorflow import keras\n",
    "from numpy.random import seed\n",
    "seed(1)\n",
    "from tensorflow.random import set_seed\n",
    "set_seed(2)"
   ]
  },
  {
   "cell_type": "code",
   "execution_count": 13,
   "metadata": {},
   "outputs": [
    {
     "name": "stdout",
     "output_type": "stream",
     "text": [
      "WARNING:tensorflow:From C:\\Users\\Peter\\AppData\\Local\\miniconda3\\Lib\\site-packages\\keras\\src\\backend.py:1398: The name tf.executing_eagerly_outside_functions is deprecated. Please use tf.compat.v1.executing_eagerly_outside_functions instead.\n",
      "\n"
     ]
    }
   ],
   "source": [
    "inputs = keras.Input(shape=X_train.shape[1])"
   ]
  },
  {
   "cell_type": "code",
   "execution_count": 14,
   "metadata": {},
   "outputs": [],
   "source": [
    "hidden_layer = keras.layers.Dense(10, activation=\"relu\")(inputs)"
   ]
  },
  {
   "cell_type": "code",
   "execution_count": 15,
   "metadata": {},
   "outputs": [],
   "source": [
    "output_layer = keras.layers.Dense(2, activation=\"softmax\")(hidden_layer)"
   ]
  },
  {
   "cell_type": "code",
   "execution_count": 16,
   "metadata": {},
   "outputs": [
    {
     "name": "stdout",
     "output_type": "stream",
     "text": [
      "Model: \"model\"\n",
      "_________________________________________________________________\n",
      " Layer (type)                Output Shape              Param #   \n",
      "=================================================================\n",
      " input_1 (InputLayer)        [(None, 4)]               0         \n",
      "                                                                 \n",
      " dense (Dense)               (None, 10)                50        \n",
      "                                                                 \n",
      " dense_1 (Dense)             (None, 2)                 22        \n",
      "                                                                 \n",
      "=================================================================\n",
      "Total params: 72 (288.00 Byte)\n",
      "Trainable params: 72 (288.00 Byte)\n",
      "Non-trainable params: 0 (0.00 Byte)\n",
      "_________________________________________________________________\n"
     ]
    }
   ],
   "source": [
    "model = keras.Model(inputs=inputs, outputs=output_layer)\n",
    "model.summary()"
   ]
  },
  {
   "attachments": {},
   "cell_type": "markdown",
   "metadata": {},
   "source": [
    "# Compile and run the model"
   ]
  },
  {
   "cell_type": "code",
   "execution_count": 17,
   "metadata": {},
   "outputs": [
    {
     "name": "stdout",
     "output_type": "stream",
     "text": [
      "WARNING:tensorflow:From C:\\Users\\Peter\\AppData\\Local\\miniconda3\\Lib\\site-packages\\keras\\src\\optimizers\\__init__.py:309: The name tf.train.Optimizer is deprecated. Please use tf.compat.v1.train.Optimizer instead.\n",
      "\n"
     ]
    }
   ],
   "source": [
    "model.compile(optimizer='adam', loss=keras.losses.CategoricalCrossentropy())"
   ]
  },
  {
   "cell_type": "code",
   "execution_count": 18,
   "metadata": {},
   "outputs": [
    {
     "name": "stdout",
     "output_type": "stream",
     "text": [
      "Epoch 1/100\n",
      "WARNING:tensorflow:From C:\\Users\\Peter\\AppData\\Local\\miniconda3\\Lib\\site-packages\\keras\\src\\utils\\tf_utils.py:492: The name tf.ragged.RaggedTensorValue is deprecated. Please use tf.compat.v1.ragged.RaggedTensorValue instead.\n",
      "\n",
      "75/75 [==============================] - 1s 1ms/step - loss: 8.3130\n",
      "Epoch 2/100\n",
      "75/75 [==============================] - 0s 968us/step - loss: 1.8140\n",
      "Epoch 3/100\n",
      "75/75 [==============================] - 0s 981us/step - loss: 0.4693\n",
      "Epoch 4/100\n",
      "75/75 [==============================] - 0s 973us/step - loss: 0.4145\n",
      "Epoch 5/100\n",
      "75/75 [==============================] - 0s 967us/step - loss: 0.3990\n",
      "Epoch 6/100\n",
      "75/75 [==============================] - 0s 998us/step - loss: 0.3732\n",
      "Epoch 7/100\n",
      "75/75 [==============================] - 0s 982us/step - loss: 0.3369\n",
      "Epoch 8/100\n",
      "75/75 [==============================] - 0s 987us/step - loss: 0.3215\n",
      "Epoch 9/100\n",
      "75/75 [==============================] - 0s 1ms/step - loss: 0.3099\n",
      "Epoch 10/100\n",
      "75/75 [==============================] - 0s 1ms/step - loss: 0.3073\n",
      "Epoch 11/100\n",
      "75/75 [==============================] - 0s 1ms/step - loss: 0.2967\n",
      "Epoch 12/100\n",
      "75/75 [==============================] - 0s 965us/step - loss: 0.2910\n",
      "Epoch 13/100\n",
      "75/75 [==============================] - 0s 987us/step - loss: 0.2859\n",
      "Epoch 14/100\n",
      "75/75 [==============================] - 0s 963us/step - loss: 0.2817\n",
      "Epoch 15/100\n",
      "75/75 [==============================] - 0s 983us/step - loss: 0.2815\n",
      "Epoch 16/100\n",
      "75/75 [==============================] - 0s 984us/step - loss: 0.2795\n",
      "Epoch 17/100\n",
      "75/75 [==============================] - 0s 958us/step - loss: 0.2710\n",
      "Epoch 18/100\n",
      "75/75 [==============================] - 0s 988us/step - loss: 0.2678\n",
      "Epoch 19/100\n",
      "75/75 [==============================] - 0s 983us/step - loss: 0.2631\n",
      "Epoch 20/100\n",
      "75/75 [==============================] - 0s 975us/step - loss: 0.2633\n",
      "Epoch 21/100\n",
      "75/75 [==============================] - 0s 973us/step - loss: 0.2524\n",
      "Epoch 22/100\n",
      "75/75 [==============================] - 0s 977us/step - loss: 0.2514\n",
      "Epoch 23/100\n",
      "75/75 [==============================] - 0s 1ms/step - loss: 0.2445\n",
      "Epoch 24/100\n",
      "75/75 [==============================] - 0s 992us/step - loss: 0.2452\n",
      "Epoch 25/100\n",
      "75/75 [==============================] - 0s 982us/step - loss: 0.2498\n",
      "Epoch 26/100\n",
      "75/75 [==============================] - 0s 1ms/step - loss: 0.2399\n",
      "Epoch 27/100\n",
      "75/75 [==============================] - 0s 1000us/step - loss: 0.2347\n",
      "Epoch 28/100\n",
      "75/75 [==============================] - 0s 987us/step - loss: 0.2331\n",
      "Epoch 29/100\n",
      "75/75 [==============================] - 0s 965us/step - loss: 0.2299\n",
      "Epoch 30/100\n",
      "75/75 [==============================] - 0s 953us/step - loss: 0.2270\n",
      "Epoch 31/100\n",
      "75/75 [==============================] - 0s 1ms/step - loss: 0.2265\n",
      "Epoch 32/100\n",
      "75/75 [==============================] - 0s 991us/step - loss: 0.2250\n",
      "Epoch 33/100\n",
      "75/75 [==============================] - 0s 1ms/step - loss: 0.2217\n",
      "Epoch 34/100\n",
      "75/75 [==============================] - 0s 978us/step - loss: 0.2222\n",
      "Epoch 35/100\n",
      "75/75 [==============================] - 0s 1ms/step - loss: 0.2201\n",
      "Epoch 36/100\n",
      "75/75 [==============================] - 0s 995us/step - loss: 0.2201\n",
      "Epoch 37/100\n",
      "75/75 [==============================] - 0s 1ms/step - loss: 0.2193\n",
      "Epoch 38/100\n",
      "75/75 [==============================] - 0s 1ms/step - loss: 0.2135\n",
      "Epoch 39/100\n",
      "75/75 [==============================] - 0s 1ms/step - loss: 0.2141\n",
      "Epoch 40/100\n",
      "75/75 [==============================] - 0s 1ms/step - loss: 0.2124\n",
      "Epoch 41/100\n",
      "75/75 [==============================] - 0s 897us/step - loss: 0.2092\n",
      "Epoch 42/100\n",
      "75/75 [==============================] - 0s 988us/step - loss: 0.2100\n",
      "Epoch 43/100\n",
      "75/75 [==============================] - 0s 996us/step - loss: 0.2059\n",
      "Epoch 44/100\n",
      "75/75 [==============================] - 0s 1ms/step - loss: 0.2036\n",
      "Epoch 45/100\n",
      "75/75 [==============================] - 0s 1ms/step - loss: 0.2073\n",
      "Epoch 46/100\n",
      "75/75 [==============================] - 0s 1ms/step - loss: 0.2053\n",
      "Epoch 47/100\n",
      "75/75 [==============================] - 0s 1ms/step - loss: 0.2037\n",
      "Epoch 48/100\n",
      "75/75 [==============================] - 0s 1ms/step - loss: 0.2015\n",
      "Epoch 49/100\n",
      "75/75 [==============================] - 0s 1ms/step - loss: 0.1977\n",
      "Epoch 50/100\n",
      "75/75 [==============================] - 0s 994us/step - loss: 0.2000\n",
      "Epoch 51/100\n",
      "75/75 [==============================] - 0s 1ms/step - loss: 0.1962\n",
      "Epoch 52/100\n",
      "75/75 [==============================] - 0s 1ms/step - loss: 0.1964\n",
      "Epoch 53/100\n",
      "75/75 [==============================] - 0s 1ms/step - loss: 0.1936\n",
      "Epoch 54/100\n",
      "75/75 [==============================] - 0s 1ms/step - loss: 0.1958\n",
      "Epoch 55/100\n",
      "75/75 [==============================] - 0s 1ms/step - loss: 0.1950\n",
      "Epoch 56/100\n",
      "75/75 [==============================] - 0s 1ms/step - loss: 0.1889\n",
      "Epoch 57/100\n",
      "75/75 [==============================] - 0s 983us/step - loss: 0.1865\n",
      "Epoch 58/100\n",
      "75/75 [==============================] - 0s 1ms/step - loss: 0.1845\n",
      "Epoch 59/100\n",
      "75/75 [==============================] - 0s 986us/step - loss: 0.1833\n",
      "Epoch 60/100\n",
      "75/75 [==============================] - 0s 1ms/step - loss: 0.1809\n",
      "Epoch 61/100\n",
      "75/75 [==============================] - 0s 996us/step - loss: 0.1788\n",
      "Epoch 62/100\n",
      "75/75 [==============================] - 0s 1ms/step - loss: 0.1860\n",
      "Epoch 63/100\n",
      "75/75 [==============================] - 0s 1ms/step - loss: 0.1756\n",
      "Epoch 64/100\n",
      "75/75 [==============================] - 0s 1ms/step - loss: 0.1755\n",
      "Epoch 65/100\n",
      "75/75 [==============================] - 0s 1ms/step - loss: 0.1749\n",
      "Epoch 66/100\n",
      "75/75 [==============================] - 0s 1ms/step - loss: 0.1726\n",
      "Epoch 67/100\n",
      "75/75 [==============================] - 0s 1ms/step - loss: 0.1698\n",
      "Epoch 68/100\n",
      "75/75 [==============================] - 0s 997us/step - loss: 0.1716\n",
      "Epoch 69/100\n",
      "75/75 [==============================] - 0s 989us/step - loss: 0.1715\n",
      "Epoch 70/100\n",
      "75/75 [==============================] - 0s 1ms/step - loss: 0.1688\n",
      "Epoch 71/100\n",
      "75/75 [==============================] - 0s 1ms/step - loss: 0.1673\n",
      "Epoch 72/100\n",
      "75/75 [==============================] - 0s 1ms/step - loss: 0.1653\n",
      "Epoch 73/100\n",
      "75/75 [==============================] - 0s 992us/step - loss: 0.1653\n",
      "Epoch 74/100\n",
      "75/75 [==============================] - 0s 953us/step - loss: 0.1675\n",
      "Epoch 75/100\n",
      "75/75 [==============================] - 0s 996us/step - loss: 0.1657\n",
      "Epoch 76/100\n",
      "75/75 [==============================] - 0s 1ms/step - loss: 0.1620\n",
      "Epoch 77/100\n",
      "75/75 [==============================] - 0s 991us/step - loss: 0.1584\n",
      "Epoch 78/100\n",
      "75/75 [==============================] - 0s 982us/step - loss: 0.1623\n",
      "Epoch 79/100\n",
      "75/75 [==============================] - 0s 1ms/step - loss: 0.1607\n",
      "Epoch 80/100\n",
      "75/75 [==============================] - 0s 1000us/step - loss: 0.1558\n",
      "Epoch 81/100\n",
      "75/75 [==============================] - 0s 943us/step - loss: 0.1563\n",
      "Epoch 82/100\n",
      "75/75 [==============================] - 0s 1ms/step - loss: 0.1637\n",
      "Epoch 83/100\n",
      "75/75 [==============================] - 0s 1ms/step - loss: 0.1551\n",
      "Epoch 84/100\n",
      "75/75 [==============================] - 0s 1ms/step - loss: 0.1541\n",
      "Epoch 85/100\n",
      "75/75 [==============================] - 0s 1ms/step - loss: 0.1512\n",
      "Epoch 86/100\n",
      "75/75 [==============================] - 0s 1ms/step - loss: 0.1509\n",
      "Epoch 87/100\n",
      "75/75 [==============================] - 0s 1ms/step - loss: 0.1498\n",
      "Epoch 88/100\n",
      "75/75 [==============================] - 0s 1ms/step - loss: 0.1514\n",
      "Epoch 89/100\n",
      "75/75 [==============================] - 0s 1ms/step - loss: 0.1487\n",
      "Epoch 90/100\n",
      "75/75 [==============================] - 0s 1ms/step - loss: 0.1501\n",
      "Epoch 91/100\n",
      "75/75 [==============================] - 0s 1ms/step - loss: 0.1474\n",
      "Epoch 92/100\n",
      "75/75 [==============================] - 0s 1ms/step - loss: 0.1502\n",
      "Epoch 93/100\n",
      "75/75 [==============================] - 0s 1ms/step - loss: 0.1496\n",
      "Epoch 94/100\n",
      "75/75 [==============================] - 0s 1ms/step - loss: 0.1458\n",
      "Epoch 95/100\n",
      "75/75 [==============================] - 0s 981us/step - loss: 0.1447\n",
      "Epoch 96/100\n",
      "75/75 [==============================] - 0s 987us/step - loss: 0.1514\n",
      "Epoch 97/100\n",
      "75/75 [==============================] - 0s 1ms/step - loss: 0.1445\n",
      "Epoch 98/100\n",
      "75/75 [==============================] - 0s 1ms/step - loss: 0.1414\n",
      "Epoch 99/100\n",
      "75/75 [==============================] - 0s 1ms/step - loss: 0.1411\n",
      "Epoch 100/100\n",
      "75/75 [==============================] - 0s 1ms/step - loss: 0.1462\n"
     ]
    }
   ],
   "source": [
    "history = model.fit(X_train, y_train, epochs=100)"
   ]
  },
  {
   "cell_type": "code",
   "execution_count": 26,
   "metadata": {},
   "outputs": [
    {
     "data": {
      "image/png": "[encoded data removed]",
      "text/plain": [
       "<Figure size 640x480 with 1 Axes>"
      ]
     },
     "metadata": {},
     "output_type": "display_data"
    }
   ],
   "source": [
    "import seaborn as sns\n",
    "import matplotlib.pyplot as plt\n",
    "\n",
    "sns.lineplot(x=history.epoch, y=history.history['loss'])\n",
    "plt.xlabel('Epochs')\n",
    "plt.ylabel('Loss')\n",
    "plt.grid()  #just add this\n",
    "plt.show()"
   ]
  },
  {
   "attachments": {},
   "cell_type": "markdown",
   "metadata": {},
   "source": [
    "# Predict and diagnose model results"
   ]
  },
  {
   "cell_type": "code",
   "execution_count": 27,
   "metadata": {},
   "outputs": [
    {
     "name": "stdout",
     "output_type": "stream",
     "text": [
      "19/19 [==============================] - 0s 1ms/step\n"
     ]
    },
    {
     "data": {
      "text/html": [
       "<div>\n",
       "<style scoped>\n",
       "    .dataframe tbody tr th:only-of-type {\n",
       "        vertical-align: middle;\n",
       "    }\n",
       "\n",
       "    .dataframe tbody tr th {\n",
       "        vertical-align: top;\n",
       "    }\n",
       "\n",
       "    .dataframe thead th {\n",
       "        text-align: right;\n",
       "    }\n",
       "</style>\n",
       "<table border=\"1\" class=\"dataframe\">\n",
       "  <thead>\n",
       "    <tr style=\"text-align: right;\">\n",
       "      <th></th>\n",
       "      <th>Consumption: drinking</th>\n",
       "      <th>Food consumption: plate, dish, bowl</th>\n",
       "    </tr>\n",
       "  </thead>\n",
       "  <tbody>\n",
       "    <tr>\n",
       "      <th>0</th>\n",
       "      <td>3.196223e-12</td>\n",
       "      <td>1.000000</td>\n",
       "    </tr>\n",
       "    <tr>\n",
       "      <th>1</th>\n",
       "      <td>8.497015e-01</td>\n",
       "      <td>0.150299</td>\n",
       "    </tr>\n",
       "    <tr>\n",
       "      <th>2</th>\n",
       "      <td>1.132027e-12</td>\n",
       "      <td>1.000000</td>\n",
       "    </tr>\n",
       "    <tr>\n",
       "      <th>3</th>\n",
       "      <td>7.746588e-01</td>\n",
       "      <td>0.225341</td>\n",
       "    </tr>\n",
       "    <tr>\n",
       "      <th>4</th>\n",
       "      <td>2.671231e-02</td>\n",
       "      <td>0.973288</td>\n",
       "    </tr>\n",
       "    <tr>\n",
       "      <th>...</th>\n",
       "      <td>...</td>\n",
       "      <td>...</td>\n",
       "    </tr>\n",
       "    <tr>\n",
       "      <th>590</th>\n",
       "      <td>3.122591e-01</td>\n",
       "      <td>0.687741</td>\n",
       "    </tr>\n",
       "    <tr>\n",
       "      <th>591</th>\n",
       "      <td>2.246366e-01</td>\n",
       "      <td>0.775363</td>\n",
       "    </tr>\n",
       "    <tr>\n",
       "      <th>592</th>\n",
       "      <td>6.589257e-01</td>\n",
       "      <td>0.341074</td>\n",
       "    </tr>\n",
       "    <tr>\n",
       "      <th>593</th>\n",
       "      <td>1.415237e-02</td>\n",
       "      <td>0.985848</td>\n",
       "    </tr>\n",
       "    <tr>\n",
       "      <th>594</th>\n",
       "      <td>9.941242e-01</td>\n",
       "      <td>0.005876</td>\n",
       "    </tr>\n",
       "  </tbody>\n",
       "</table>\n",
       "<p>595 rows × 2 columns</p>\n",
       "</div>"
      ],
      "text/plain": [
       "     Consumption: drinking  Food consumption: plate, dish, bowl\n",
       "0             3.196223e-12                             1.000000\n",
       "1             8.497015e-01                             0.150299\n",
       "2             1.132027e-12                             1.000000\n",
       "3             7.746588e-01                             0.225341\n",
       "4             2.671231e-02                             0.973288\n",
       "..                     ...                                  ...\n",
       "590           3.122591e-01                             0.687741\n",
       "591           2.246366e-01                             0.775363\n",
       "592           6.589257e-01                             0.341074\n",
       "593           1.415237e-02                             0.985848\n",
       "594           9.941242e-01                             0.005876\n",
       "\n",
       "[595 rows x 2 columns]"
      ]
     },
     "execution_count": 27,
     "metadata": {},
     "output_type": "execute_result"
    }
   ],
   "source": [
    "y_pred = model.predict(X_test)\n",
    "prediction = pd.DataFrame(y_pred, columns=target.columns)\n",
    "prediction"
   ]
  },
  {
   "cell_type": "code",
   "execution_count": 28,
   "metadata": {},
   "outputs": [
    {
     "data": {
      "text/plain": [
       "0      Food consumption: plate, dish, bowl\n",
       "1                    Consumption: drinking\n",
       "2      Food consumption: plate, dish, bowl\n",
       "3                    Consumption: drinking\n",
       "4      Food consumption: plate, dish, bowl\n",
       "                      ...                 \n",
       "590    Food consumption: plate, dish, bowl\n",
       "591    Food consumption: plate, dish, bowl\n",
       "592                  Consumption: drinking\n",
       "593    Food consumption: plate, dish, bowl\n",
       "594                  Consumption: drinking\n",
       "Length: 595, dtype: category\n",
       "Categories (2, object): ['Consumption: drinking', 'Food consumption: plate, dish, bowl']"
      ]
     },
     "execution_count": 28,
     "metadata": {},
     "output_type": "execute_result"
    }
   ],
   "source": [
    "predicted_classification = prediction.idxmax(axis=\"columns\")\n",
    "predicted_classification"
   ]
  },
  {
   "attachments": {},
   "cell_type": "markdown",
   "metadata": {},
   "source": [
    "Create confusion matrix to visually inspect results"
   ]
  },
  {
   "cell_type": "code",
   "execution_count": 29,
   "metadata": {},
   "outputs": [
    {
     "name": "stdout",
     "output_type": "stream",
     "text": [
      "[[160   8]\n",
      " [ 19 408]]\n"
     ]
    }
   ],
   "source": [
    "from sklearn.metrics import confusion_matrix\n",
    "\n",
    "true_classification = y_test.idxmax(axis=\"columns\")\n",
    "\n",
    "matrix = confusion_matrix(true_classification, predicted_classification)\n",
    "print(matrix)"
   ]
  },
  {
   "cell_type": "code",
   "execution_count": 30,
   "metadata": {},
   "outputs": [],
   "source": [
    "# Convert to a pandas dataframe\n",
    "confusion_df = pd.DataFrame(matrix, index=y_test.columns.values, columns=y_test.columns.values)\n",
    "\n",
    "# Set the names of the x and y axis, this helps with the readability of the heatmap.\n",
    "confusion_df.index.name = 'True Label'\n",
    "confusion_df.columns.name = 'Predicted Label'"
   ]
  },
  {
   "cell_type": "code",
   "execution_count": 31,
   "metadata": {},
   "outputs": [
    {
     "data": {
      "text/plain": [
       "<Axes: xlabel='Predicted Label', ylabel='True Label'>"
      ]
     },
     "execution_count": 31,
     "metadata": {},
     "output_type": "execute_result"
    },
    {
     "data": {
      "image/png": "[encoded data removed]",
      "text/plain": [
       "<Figure size 640x480 with 2 Axes>"
      ]
     },
     "metadata": {},
     "output_type": "display_data"
    }
   ],
   "source": [
    "sns.heatmap(confusion_df, annot=True)"
   ]
  },
  {
   "cell_type": "code",
   "execution_count": 32,
   "metadata": {},
   "outputs": [],
   "source": [
    "model.save('my_csvclass_model.keras')"
   ]
  },
  {
   "cell_type": "code",
   "execution_count": 33,
   "metadata": {},
   "outputs": [
    {
     "name": "stdout",
     "output_type": "stream",
     "text": [
      "19/19 [==============================] - 0s 1ms/step\n",
      "0      Food consumption: plate, dish, bowl\n",
      "1                    Consumption: drinking\n",
      "2      Food consumption: plate, dish, bowl\n",
      "3                    Consumption: drinking\n",
      "4      Food consumption: plate, dish, bowl\n",
      "                      ...                 \n",
      "590    Food consumption: plate, dish, bowl\n",
      "591    Food consumption: plate, dish, bowl\n",
      "592                  Consumption: drinking\n",
      "593    Food consumption: plate, dish, bowl\n",
      "594                  Consumption: drinking\n",
      "Length: 595, dtype: category\n",
      "Categories (2, object): ['Consumption: drinking', 'Food consumption: plate, dish, bowl']\n"
     ]
    }
   ],
   "source": [
    "pretrained_model = keras.models.load_model('my_csvclass_model.keras')\n",
    "y_pretrained_pred = pretrained_model.predict(X_test)\n",
    "pretrained_prediction = pd.DataFrame(y_pretrained_pred, columns=target.columns.values)\n",
    "\n",
    "# idxmax will select the column for each row with the highest value\n",
    "pretrained_predicted_class = pretrained_prediction.idxmax(axis=\"columns\")\n",
    "print(pretrained_predicted_class)"
   ]
  }
 ],
 "metadata": {
  "kernelspec": {
   "display_name": "Python 3 (ipykernel)",
   "language": "python",
   "name": "python3"
  },
  "language_info": {
   "codemirror_mode": {
    "name": "ipython",
    "version": 3
   },
   "file_extension": ".py",
   "mimetype": "text/x-python",
   "name": "python",
   "nbconvert_exporter": "python",
   "pygments_lexer": "ipython3",
   "version": "3.11.5"
  }
 },
 "nbformat": 4,
 "nbformat_minor": 4
}
